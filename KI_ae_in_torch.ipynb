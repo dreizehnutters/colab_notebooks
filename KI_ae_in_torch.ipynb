{
  "nbformat": 4,
  "nbformat_minor": 0,
  "metadata": {
    "colab": {
      "name": "KI_ae_in_torch.ipynb",
      "version": "0.3.2",
      "provenance": [],
      "collapsed_sections": [],
      "include_colab_link": true
    },
    "kernelspec": {
      "name": "python3",
      "display_name": "Python 3"
    },
    "accelerator": "GPU"
  },
  "cells": [
    {
      "cell_type": "markdown",
      "metadata": {
        "id": "view-in-github",
        "colab_type": "text"
      },
      "source": [
        "<a href=\"https://colab.research.google.com/github/dreizehnutters/colab_notebooks/blob/master/KI_ae_in_torch.ipynb\" target=\"_parent\"><img src=\"https://colab.research.google.com/assets/colab-badge.svg\" alt=\"Open In Colab\"/></a>"
      ]
    },
    {
      "metadata": {
        "id": "QRSRdaPelO42",
        "colab_type": "code",
        "colab": {}
      },
      "cell_type": "code",
      "source": [
        "import argparse\n",
        "import torch\n",
        "import torch.nn as nn\n",
        "from torchvision import datasets, transforms\n",
        "import matplotlib.pyplot as plt"
      ],
      "execution_count": 0,
      "outputs": []
    },
    {
      "metadata": {
        "id": "GA91BlgYYQOX",
        "colab_type": "code",
        "colab": {}
      },
      "cell_type": "code",
      "source": [
        "# hyperparameters\n",
        "parser = argparse.ArgumentParser(description='AE MNIST Example ()')\n",
        "parser.add_argument('--batch-size', type=int, default=128, metavar='N', help='input batch size for training (default: 128)')\n",
        "parser.add_argument('--epochs', type=int, default=3, metavar='N', help='number of epochs to train (default: 3)')\n",
        "parser.add_argument('--rate', type=float, default=0.01, metavar='F', help='number of epochs to train (default: 0.01)')\n",
        "parser.add_argument('--no-cuda', action='store_true', default=False, help='enables CUDA training')\n",
        "parser.add_argument('--seed', type=int, default=1337, metavar='S', help='random seed (default: 1337)')\n",
        "parser.add_argument('--log-interval', type=int, default=25, metavar='N', help='how many batches to wait before logging training status')\n",
        "args = args = parser.parse_args(args=[])\n",
        "torch.manual_seed(args.seed)\n",
        "device = torch.device(\"cuda\")"
      ],
      "execution_count": 0,
      "outputs": []
    },
    {
      "metadata": {
        "id": "xHvA-vFdZeMv",
        "colab_type": "code",
        "colab": {}
      },
      "cell_type": "code",
      "source": [
        "# download MNIST\n",
        "mnist_train = datasets.MNIST(\"./\", train=True,\n",
        "transform=transforms.ToTensor(), target_transform=None, download=True)\n",
        "\n",
        "# set data loader\n",
        "train_loader = torch.utils.data.DataLoader(dataset=mnist_train,batch_size=args.batch_size,shuffle=True)"
      ],
      "execution_count": 0,
      "outputs": []
    },
    {
      "metadata": {
        "id": "SqXVOJZxaSDU",
        "colab_type": "code",
        "colab": {}
      },
      "cell_type": "code",
      "source": [
        "class Encoder(nn.Module):\n",
        "    def __init__(self):\n",
        "        super(Encoder, self).__init__()\n",
        "        self.layer1 = nn.Sequential(\n",
        "                        nn.Conv2d(1,32,3,padding=1),   # batch x 32 x 28 x 28\n",
        "                        nn.ReLU(),\n",
        "                        nn.BatchNorm2d(32),\n",
        "                        nn.Conv2d(32,32,3,padding=1),   # batch x 32 x 28 x 28\n",
        "                        nn.ReLU(),\n",
        "                        nn.BatchNorm2d(32),\n",
        "                        nn.Conv2d(32,64,3,padding=1),  # batch x 64 x 28 x 28\n",
        "                        nn.ReLU(),\n",
        "                        nn.BatchNorm2d(64),\n",
        "                        nn.Conv2d(64,64,3,padding=1),  # batch x 64 x 28 x 28\n",
        "                        nn.ReLU(),\n",
        "                        nn.BatchNorm2d(64),\n",
        "                        nn.MaxPool2d(2,2)   # batch x 64 x 14 x 14\n",
        "                      )\n",
        "        self.layer2 = nn.Sequential(\n",
        "                        nn.Conv2d(64,128,3,padding=1),  # batch x 128 x 14 x 14\n",
        "                        nn.ReLU(),\n",
        "                        nn.BatchNorm2d(128),\n",
        "                        nn.Conv2d(128,128,3,padding=1),  # batch x 128 x 14 x 14\n",
        "                        nn.ReLU(),\n",
        "                        nn.BatchNorm2d(128),\n",
        "                        nn.MaxPool2d(2,2),\n",
        "                        nn.Conv2d(128,256,3,padding=1),  # batch x 256 x 7 x 7\n",
        "                        nn.ReLU()\n",
        "                      )\n",
        "\n",
        "    def forward(self, x):\n",
        "        out = self.layer1(x)\n",
        "        out = self.layer2(out)\n",
        "        return out.view(args.batch_size, -1)\n",
        "\n",
        "class Decoder(nn.Module):\n",
        "    def __init__(self):\n",
        "        super(Decoder, self).__init__()\n",
        "        self.layer1 = nn.Sequential(\n",
        "                            nn.ConvTranspose2d(256,128,3,2,1,1), # batch x 128 x 14 x 14\n",
        "                            nn.ReLU(),\n",
        "                            nn.BatchNorm2d(128),\n",
        "                            nn.ConvTranspose2d(128,128,3,1,1),   # batch x 128 x 14 x 14\n",
        "                            nn.ReLU(),\n",
        "                            nn.BatchNorm2d(128),\n",
        "                            nn.ConvTranspose2d(128,64,3,1,1),    # batch x 64 x 14 x 14\n",
        "                            nn.ReLU(),\n",
        "                            nn.BatchNorm2d(64),\n",
        "                            nn.ConvTranspose2d(64,64,3,1,1),     # batch x 64 x 14 x 14\n",
        "                            nn.ReLU(),\n",
        "                            nn.BatchNorm2d(64)\n",
        "                        )\n",
        "        self.layer2 = nn.Sequential(\n",
        "                            nn.ConvTranspose2d(64,32,3,1,1),     # batch x 32 x 14 x 14\n",
        "                            nn.ReLU(),\n",
        "                            nn.BatchNorm2d(32),\n",
        "                            nn.ConvTranspose2d(32,32,3,1,1),     # batch x 32 x 14 x 14\n",
        "                            nn.ReLU(),\n",
        "                            nn.BatchNorm2d(32),\n",
        "                            nn.ConvTranspose2d(32,1,3,2,1,1),    # batch x 1 x 28 x 28\n",
        "                            nn.ReLU()\n",
        "                        )\n",
        "\n",
        "    def forward(self, x):\n",
        "        out = x.view(args.batch_size, 256, 7, 7)\n",
        "        out = self.layer1(out)\n",
        "        out = self.layer2(out)\n",
        "        return out"
      ],
      "execution_count": 0,
      "outputs": []
    },
    {
      "metadata": {
        "id": "P5IlEliEaiyu",
        "colab_type": "code",
        "colab": {}
      },
      "cell_type": "code",
      "source": [
        "encoder = Encoder().cuda()\n",
        "decoder = Decoder().cuda()\n",
        "loss_func = nn.MSELoss()\n",
        "optimizer = torch.optim.Adam(list(encoder.parameters()) + list(decoder.parameters()), lr=args.rate)"
      ],
      "execution_count": 0,
      "outputs": []
    },
    {
      "metadata": {
        "id": "WUbSNSVybZX4",
        "colab_type": "code",
        "colab": {}
      },
      "cell_type": "code",
      "source": [
        "# train\n",
        "for epoch in range(1, args.epochs+1):\n",
        "    for batch_idx, (image, _) in enumerate(train_loader):\n",
        "        if image.shape[0] < args.batch_size:\n",
        "            break\n",
        "        noise = torch.rand(args.batch_size, 1, 28, 28)\n",
        "        image_n = torch.mul(image+0.25, 0.1 * noise)\n",
        "        optimizer.zero_grad()\n",
        "        output = encoder(image_n.to(device))\n",
        "        output = decoder(output)\n",
        "        loss = loss_func(output, image.to(device))\n",
        "        loss.backward()\n",
        "        optimizer.step()\n",
        "        if batch_idx % args.log_interval == 0:\n",
        "            print(f'epoch {epoch} [{batch_idx * len(image)}/{len(train_loader.dataset)}]\\tloss@{(loss.item()):.6f} ')\n",
        "    print(f'epoch [{epoch}/{args.epochs}] ==> loss@{loss.item():.6f}')"
      ],
      "execution_count": 0,
      "outputs": []
    },
    {
      "metadata": {
        "id": "jcDivjnUcZEY",
        "colab_type": "code",
        "outputId": "b0e2015b-3bc0-459d-f182-988347d86e86",
        "colab": {
          "base_uri": "https://localhost:8080/",
          "height": 325
        }
      },
      "cell_type": "code",
      "source": [
        "#plot results\n",
        "noi = image_n[42].cpu().data.numpy()[0]\n",
        "out = output[42].cpu().data.numpy()[0]\n",
        "fig, axs = plt.subplots(1, 2, constrained_layout=True)\n",
        "axs[0].imshow(noi, cmap='gray')\n",
        "axs[0].set_title('noisy')\n",
        "axs[0].axis('off')\n",
        "axs[1].imshow(out, cmap=\"gray\")\n",
        "axs[1].set_title('denoised')\n",
        "axs[1].axis('off')\n",
        "plt.show()"
      ],
      "execution_count": 0,
      "outputs": [
        {
          "output_type": "display_data",
          "data": {
            "image/png": "[encoded data removed]",
            "text/plain": [
              "<Figure size 576x396 with 2 Axes>"
            ]
          },
          "metadata": {
            "tags": []
          }
        }
      ]
    }
  ]
}